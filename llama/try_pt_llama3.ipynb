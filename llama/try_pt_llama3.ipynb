{
 "cells": [
  {
   "cell_type": "code",
   "execution_count": 1,
   "id": "7ad004e1-f765-4432-96e1-aa3695dda86f",
   "metadata": {},
   "outputs": [
    {
     "name": "stdout",
     "output_type": "stream",
     "text": [
      "ATen/Parallel:\n",
      "\tat::get_num_threads() : 4\n",
      "\tat::get_num_interop_threads() : 8\n",
      "OpenMP 2019\n",
      "\tomp_get_max_threads() : 4\n",
      "Intel(R) oneAPI Math Kernel Library Version 2023.1-Product Build 20230303 for Intel(R) 64 architecture applications\n",
      "\tmkl_get_max_threads() : 4\n",
      "Intel(R) MKL-DNN v3.3.2 (Git Hash N/A)\n",
      "std::thread::hardware_concurrency() : 8\n",
      "Environment variables:\n",
      "\tOMP_NUM_THREADS : 8\n",
      "\tMKL_NUM_THREADS : 8\n",
      "ATen parallel backend: OpenMP\n",
      "\n",
      "False\n"
     ]
    }
   ],
   "source": [
    "from llama.generation import Llama, Dialog, Message\n",
    "import os;os.environ['OMP_NUM_THREADS']='8';os.environ['MKL_NUM_THREADS']='8'\n",
    "import torch\n",
    "print(torch.__config__.parallel_info())\n",
    "print(torch.cuda.is_available())"
   ]
  },
  {
   "cell_type": "code",
   "execution_count": 2,
   "id": "45395641-a991-4c8e-8032-8a7d9770d74a",
   "metadata": {},
   "outputs": [],
   "source": [
    "# llama = Llama.build(ckpt_dir= 'D:/llama3-8b-base/',\n",
    "#         tokenizer_path= 'D:/llama3-8b-base/tokenizer.model',\n",
    "#         max_seq_len= 10,\n",
    "#         max_batch_size= 2,\n",
    "#         model_parallel_size = 1,\n",
    "#         seed = 1,\n",
    "#     ) "
   ]
  },
  {
   "cell_type": "code",
   "execution_count": 3,
   "id": "336a412f-8798-467b-8432-f45fc7190c07",
   "metadata": {},
   "outputs": [
    {
     "name": "stderr",
     "output_type": "stream",
     "text": [
      "C:\\ProgramData\\miniconda3\\Lib\\site-packages\\torch\\__init__.py:690: UserWarning: torch.set_default_tensor_type() is deprecated as of PyTorch 2.1, please use torch.set_default_dtype() and torch.set_default_device() as alternatives. (Triggered internally at C:\\b\\abs_6fueooay2f\\croot\\pytorch-select_1707342446212\\work\\torch\\csrc\\tensor\\python_tensor.cpp:453.)\n",
      "  _C._set_default_tensor_type(t)\n"
     ]
    },
    {
     "name": "stdout",
     "output_type": "stream",
     "text": [
      "Loaded in 158.86 seconds\n"
     ]
    }
   ],
   "source": [
    "llama = Llama.build(ckpt_dir= 'D:/llama3-8b-instruct/',\n",
    "        tokenizer_path= 'D:/llama3-8b-instruct/tokenizer.model',\n",
    "        max_seq_len= 100,\n",
    "        max_batch_size= 2,\n",
    "        model_parallel_size = 1,\n",
    "        seed = 1,\n",
    "    ) "
   ]
  },
  {
   "cell_type": "code",
   "execution_count": 4,
   "id": "e399922f-9b13-4887-9e10-fe0be982f67a",
   "metadata": {},
   "outputs": [
    {
     "data": {
      "text/plain": [
       "[{'generation': {'role': 'assistant',\n",
       "   'content': \"Hello! It's nice to meet you. Is there something I can help you with, or would you like to chat?\"}}]"
      ]
     },
     "execution_count": 4,
     "metadata": {},
     "output_type": "execute_result"
    }
   ],
   "source": [
    "llama.chat_completion(\n",
    "        dialogs= [[Message(role='user',content='Hello')]],\n",
    "        temperature = 0.0,\n",
    "        top_p = 0.9,\n",
    "        max_gen_len = 100,\n",
    "        logprobs = False,\n",
    "    )"
   ]
  },
  {
   "cell_type": "code",
   "execution_count": null,
   "id": "6c7040bd-21bd-4daf-8ec7-0d3e410d3348",
   "metadata": {},
   "outputs": [],
   "source": []
  }
 ],
 "metadata": {
  "kernelspec": {
   "display_name": "Python 3 (ipykernel)",
   "language": "python",
   "name": "python3"
  },
  "language_info": {
   "codemirror_mode": {
    "name": "ipython",
    "version": 3
   },
   "file_extension": ".py",
   "mimetype": "text/x-python",
   "name": "python",
   "nbconvert_exporter": "python",
   "pygments_lexer": "ipython3",
   "version": "3.12.2"
  }
 },
 "nbformat": 4,
 "nbformat_minor": 5
}
