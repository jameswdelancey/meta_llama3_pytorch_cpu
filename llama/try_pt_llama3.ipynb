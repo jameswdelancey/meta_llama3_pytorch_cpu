{
 "cells": [
  {
   "cell_type": "code",
   "execution_count": 1,
   "id": "7ad004e1-f765-4432-96e1-aa3695dda86f",
   "metadata": {},
   "outputs": [
    {
     "name": "stdout",
     "output_type": "stream",
     "text": [
      "ATen/Parallel:\n",
      "\tat::get_num_threads() : 4\n",
      "\tat::get_num_interop_threads() : 8\n",
      "OpenMP 2019\n",
      "\tomp_get_max_threads() : 4\n",
      "Intel(R) oneAPI Math Kernel Library Version 2023.1-Product Build 20230303 for Intel(R) 64 architecture applications\n",
      "\tmkl_get_max_threads() : 4\n",
      "Intel(R) MKL-DNN v3.3.2 (Git Hash N/A)\n",
      "std::thread::hardware_concurrency() : 8\n",
      "Environment variables:\n",
      "\tOMP_NUM_THREADS : 8\n",
      "\tMKL_NUM_THREADS : 8\n",
      "ATen parallel backend: OpenMP\n",
      "\n",
      "False\n"
     ]
    }
   ],
   "source": [
    "from llama.generation import Llama, Dialog, Message\n",
    "import os;os.environ['OMP_NUM_THREADS']='8';os.environ['MKL_NUM_THREADS']='8'\n",
    "import torch\n",
    "print(torch.__config__.parallel_info())\n",
    "print(torch.cuda.is_available())"
   ]
  },
  {
   "cell_type": "code",
   "execution_count": 2,
   "id": "45395641-a991-4c8e-8032-8a7d9770d74a",
   "metadata": {},
   "outputs": [],
   "source": [
    "# llama = Llama.build(ckpt_dir= 'D:/llama3-8b-base/',\n",
    "#         tokenizer_path= 'D:/llama3-8b-base/tokenizer.model',\n",
    "#         max_seq_len= 10,\n",
    "#         max_batch_size= 2,\n",
    "#         model_parallel_size = 1,\n",
    "#         seed = 1,\n",
    "#     ) "
   ]
  },
  {
   "cell_type": "code",
   "execution_count": 3,
   "id": "336a412f-8798-467b-8432-f45fc7190c07",
   "metadata": {},
   "outputs": [
    {
     "name": "stderr",
     "output_type": "stream",
     "text": [
      "C:\\ProgramData\\miniconda3\\Lib\\site-packages\\torch\\__init__.py:690: UserWarning: torch.set_default_tensor_type() is deprecated as of PyTorch 2.1, please use torch.set_default_dtype() and torch.set_default_device() as alternatives. (Triggered internally at C:\\b\\abs_6fueooay2f\\croot\\pytorch-select_1707342446212\\work\\torch\\csrc\\tensor\\python_tensor.cpp:453.)\n",
      "  _C._set_default_tensor_type(t)\n"
     ]
    },
    {
     "ename": "NameError",
     "evalue": "name 'ColumnParallelLinear' is not defined",
     "output_type": "error",
     "traceback": [
      "\u001b[1;31m---------------------------------------------------------------------------\u001b[0m",
      "\u001b[1;31mNameError\u001b[0m                                 Traceback (most recent call last)",
      "Cell \u001b[1;32mIn[3], line 1\u001b[0m\n\u001b[1;32m----> 1\u001b[0m llama \u001b[38;5;241m=\u001b[39m Llama\u001b[38;5;241m.\u001b[39mbuild(ckpt_dir\u001b[38;5;241m=\u001b[39m \u001b[38;5;124m'\u001b[39m\u001b[38;5;124mD:/llama3-8b-instruct/\u001b[39m\u001b[38;5;124m'\u001b[39m,\n\u001b[0;32m      2\u001b[0m         tokenizer_path\u001b[38;5;241m=\u001b[39m \u001b[38;5;124m'\u001b[39m\u001b[38;5;124mD:/llama3-8b-instruct/tokenizer.model\u001b[39m\u001b[38;5;124m'\u001b[39m,\n\u001b[0;32m      3\u001b[0m         max_seq_len\u001b[38;5;241m=\u001b[39m \u001b[38;5;241m100\u001b[39m,\n\u001b[0;32m      4\u001b[0m         max_batch_size\u001b[38;5;241m=\u001b[39m \u001b[38;5;241m2\u001b[39m,\n\u001b[0;32m      5\u001b[0m         model_parallel_size \u001b[38;5;241m=\u001b[39m \u001b[38;5;241m1\u001b[39m,\n\u001b[0;32m      6\u001b[0m         seed \u001b[38;5;241m=\u001b[39m \u001b[38;5;241m1\u001b[39m,\n\u001b[0;32m      7\u001b[0m     )\n",
      "File \u001b[1;32mc:\\users\\jd\\llama3-main\\llama\\generation.py:107\u001b[0m, in \u001b[0;36mLlama.build\u001b[1;34m(ckpt_dir, tokenizer_path, max_seq_len, max_batch_size, model_parallel_size, seed)\u001b[0m\n\u001b[0;32m    103\u001b[0m \u001b[38;5;28;01massert\u001b[39;00m model_args\u001b[38;5;241m.\u001b[39mvocab_size \u001b[38;5;241m==\u001b[39m tokenizer\u001b[38;5;241m.\u001b[39mn_words\n\u001b[0;32m    104\u001b[0m \u001b[38;5;66;03m# if torch.cuda.is_bf16_supported():\u001b[39;00m\n\u001b[0;32m    105\u001b[0m \u001b[38;5;66;03m#     torch.set_default_tensor_type(torch.cuda.BFloat16Tensor)\u001b[39;00m\n\u001b[0;32m    106\u001b[0m \u001b[38;5;66;03m# else:\u001b[39;00m\n\u001b[1;32m--> 107\u001b[0m model \u001b[38;5;241m=\u001b[39m Transformer(model_args)\n\u001b[0;32m    108\u001b[0m model\u001b[38;5;241m.\u001b[39mload_state_dict(checkpoint, strict\u001b[38;5;241m=\u001b[39m\u001b[38;5;28;01mFalse\u001b[39;00m)\n\u001b[0;32m    109\u001b[0m \u001b[38;5;28mprint\u001b[39m(\u001b[38;5;124mf\u001b[39m\u001b[38;5;124m\"\u001b[39m\u001b[38;5;124mLoaded in \u001b[39m\u001b[38;5;132;01m{\u001b[39;00mtime\u001b[38;5;241m.\u001b[39mtime()\u001b[38;5;250m \u001b[39m\u001b[38;5;241m-\u001b[39m\u001b[38;5;250m \u001b[39mstart_time\u001b[38;5;132;01m:\u001b[39;00m\u001b[38;5;124m.2f\u001b[39m\u001b[38;5;132;01m}\u001b[39;00m\u001b[38;5;124m seconds\u001b[39m\u001b[38;5;124m\"\u001b[39m)\n",
      "File \u001b[1;32mc:\\users\\jd\\llama3-main\\llama\\model.py:256\u001b[0m, in \u001b[0;36mTransformer.__init__\u001b[1;34m(self, params)\u001b[0m\n\u001b[0;32m    253\u001b[0m     \u001b[38;5;28mself\u001b[39m\u001b[38;5;241m.\u001b[39mlayers\u001b[38;5;241m.\u001b[39mappend(TransformerBlock(layer_id, params))\n\u001b[0;32m    255\u001b[0m \u001b[38;5;28mself\u001b[39m\u001b[38;5;241m.\u001b[39mnorm \u001b[38;5;241m=\u001b[39m RMSNorm(params\u001b[38;5;241m.\u001b[39mdim, eps\u001b[38;5;241m=\u001b[39mparams\u001b[38;5;241m.\u001b[39mnorm_eps)\n\u001b[1;32m--> 256\u001b[0m \u001b[38;5;28mself\u001b[39m\u001b[38;5;241m.\u001b[39moutput \u001b[38;5;241m=\u001b[39m ColumnParallelLinear(\n\u001b[0;32m    257\u001b[0m     params\u001b[38;5;241m.\u001b[39mdim, params\u001b[38;5;241m.\u001b[39mvocab_size, bias\u001b[38;5;241m=\u001b[39m\u001b[38;5;28;01mFalse\u001b[39;00m, init_method\u001b[38;5;241m=\u001b[39m\u001b[38;5;28;01mlambda\u001b[39;00m x: x\n\u001b[0;32m    258\u001b[0m )\n\u001b[0;32m    260\u001b[0m \u001b[38;5;28mself\u001b[39m\u001b[38;5;241m.\u001b[39mfreqs_cis \u001b[38;5;241m=\u001b[39m precompute_freqs_cis(\n\u001b[0;32m    261\u001b[0m     params\u001b[38;5;241m.\u001b[39mdim \u001b[38;5;241m/\u001b[39m\u001b[38;5;241m/\u001b[39m params\u001b[38;5;241m.\u001b[39mn_heads,\n\u001b[0;32m    262\u001b[0m     params\u001b[38;5;241m.\u001b[39mmax_seq_len \u001b[38;5;241m*\u001b[39m \u001b[38;5;241m2\u001b[39m,\n\u001b[0;32m    263\u001b[0m     params\u001b[38;5;241m.\u001b[39mrope_theta,\n\u001b[0;32m    264\u001b[0m )\n",
      "\u001b[1;31mNameError\u001b[0m: name 'ColumnParallelLinear' is not defined"
     ]
    }
   ],
   "source": [
    "llama = Llama.build(ckpt_dir= 'D:/llama3-8b-instruct/',\n",
    "        tokenizer_path= 'D:/llama3-8b-instruct/tokenizer.model',\n",
    "        max_seq_len= 100,\n",
    "        max_batch_size= 2,\n",
    "        model_parallel_size = 1,\n",
    "        seed = 1,\n",
    "    ) "
   ]
  },
  {
   "cell_type": "code",
   "execution_count": null,
   "id": "e399922f-9b13-4887-9e10-fe0be982f67a",
   "metadata": {},
   "outputs": [],
   "source": [
    "llama.chat_completion(\n",
    "        dialogs= [[Message(role='user',content='Hello')]],\n",
    "        temperature = 0.0,\n",
    "        top_p = 0.9,\n",
    "        max_gen_len = 100,\n",
    "        logprobs = False,\n",
    "    )"
   ]
  },
  {
   "cell_type": "code",
   "execution_count": null,
   "id": "6c7040bd-21bd-4daf-8ec7-0d3e410d3348",
   "metadata": {},
   "outputs": [],
   "source": []
  }
 ],
 "metadata": {
  "kernelspec": {
   "display_name": "Python 3 (ipykernel)",
   "language": "python",
   "name": "python3"
  },
  "language_info": {
   "codemirror_mode": {
    "name": "ipython",
    "version": 3
   },
   "file_extension": ".py",
   "mimetype": "text/x-python",
   "name": "python",
   "nbconvert_exporter": "python",
   "pygments_lexer": "ipython3",
   "version": "3.12.2"
  }
 },
 "nbformat": 4,
 "nbformat_minor": 5
}
